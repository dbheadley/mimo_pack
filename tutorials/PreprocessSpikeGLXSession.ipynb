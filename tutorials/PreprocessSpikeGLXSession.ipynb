{
 "cells": [
  {
   "cell_type": "markdown",
   "metadata": {},
   "source": [
    "# Preprocessing SpikeGLX binary files\n",
    "When you record with the SpikeGLX system it saves the data to binary files (\\*.bin) with accompanying meta data (\\*.meta). This includes both the neural data, which has an \\*.imecX.\\* string in its file names, and task/behavior data recorded with the NiDAQ board and has an \\*.nidq.\\* string. Those files ending in *.ap.bin can be subjected to spike sorting to extract the firing of individual neurons. Consult the tutorial 'RunSpikeSorting.ipynb' to learn how to do that.\n",
    "\n",
    "Once spike sorting is completed, two additional processing steps should be performed: extraction of the local field potential and time alignment. This tutorial covers how to do these steps."
   ]
  },
  {
   "cell_type": "markdown",
   "metadata": {},
   "source": [
    "### Identify the files to process\n",
    "For both steps we have to find the files to process. To do that, we will search the directory containing all the SpikeGLX data from a given recording session."
   ]
  },
  {
   "cell_type": "code",
   "execution_count": 1,
   "metadata": {},
   "outputs": [
    {
     "name": "stdout",
     "output_type": "stream",
     "text": [
      "ap files:\n",
      "D:\\SortingTemp\\24-05-31_DH23_A1-IC_g0\\24-05-31_DH23_A1-IC_g0_imec0\\24-05-31_DH23_A1-IC_g0_t0.imec0.ap.bin\n",
      "D:\\SortingTemp\\24-05-31_DH23_A1-IC_g0\\24-05-31_DH23_A1-IC_g0_imec1\\24-05-31_DH23_A1-IC_g0_t0.imec1.ap.bin\n",
      "nidq file:\n",
      "D:\\SortingTemp\\24-05-31_DH23_A1-IC_g0\\24-05-31_DH23_A1-IC_g0_t0.nidq.bin\n"
     ]
    }
   ],
   "source": [
    "from mimo_pack.util.files import find_all_matching_files\n",
    "import os\n",
    "\n",
    "# find all the files in a directory and its subdirectories\n",
    "exp_dir = \"D:\\\\SortingTemp\\\\24-05-31_DH23_A1-IC_g0\" # set this to the directory for the recording session\n",
    "ap_files = find_all_matching_files(exp_dir, r't0\\.imec([0-9]+)\\.ap\\.bin')\n",
    "nidq_file = find_all_matching_files(exp_dir, r't0\\.nidq\\.bin')[0] # there should be only one nidq file\n",
    "\n",
    "print(\"ap files:\")\n",
    "for f in ap_files:\n",
    "    print(f)\n",
    "\n",
    "print(\"nidq file:\")\n",
    "print(nidq_file)"
   ]
  },
  {
   "cell_type": "markdown",
   "metadata": {},
   "source": [
    "### Extraction of LFP\n",
    "To extract the LFP signals, you can use functions found in `mimo_pack.preprocess.lfp`. These take an *.ap.bin binary file, low pass filter it to remove high frequency signals and reduce aliasing, downsample the signal, and then save it to a new binary file with the same base name but ending in *.lfp.bin. The function `make_lfp_file_spikeglx` by default low pass filters at 500 Hz and resamples at 1000 Hz. Following creation of the LFP binary file, a dclut meta file can be created using the *.meta file associated with the original *.ap.bin binary file."
   ]
  },
  {
   "cell_type": "code",
   "execution_count": 2,
   "metadata": {},
   "outputs": [
    {
     "name": "stdout",
     "output_type": "stream",
     "text": [
      "Processing D:\\SortingTemp\\24-05-31_DH23_A1-IC_g0\\24-05-31_DH23_A1-IC_g0_imec0\\24-05-31_DH23_A1-IC_g0_t0.imec0.ap.bin\n"
     ]
    },
    {
     "name": "stderr",
     "output_type": "stream",
     "text": [
      "100%|██████████| 451/451 [7:37:36<00:00, 60.88s/it]  \n"
     ]
    },
    {
     "name": "stdout",
     "output_type": "stream",
     "text": [
      "Processing D:\\SortingTemp\\24-05-31_DH23_A1-IC_g0\\24-05-31_DH23_A1-IC_g0_imec1\\24-05-31_DH23_A1-IC_g0_t0.imec1.ap.bin\n"
     ]
    },
    {
     "name": "stderr",
     "output_type": "stream",
     "text": [
      "100%|██████████| 451/451 [7:26:13<00:00, 59.36s/it]  \n"
     ]
    }
   ],
   "source": [
    "from mimo_pack.preprocess.lfp import make_lfp_file_spikeglx, dclut_from_meta_lfp\n",
    "\n",
    "lfp_files = []\n",
    "lfp_dclut_files = []\n",
    "# make a LFP file from the imec files\n",
    "for ap_file in ap_files:\n",
    "    print('Processing {}'.format(os.path.basename(ap_file)))\n",
    "    lfp_files.append(make_lfp_file_spikeglx(ap_file, verbose=True))\n",
    "    lfp_dclut_files.append(dclut_from_meta_lfp(lfp_files[-1]))"
   ]
  },
  {
   "cell_type": "markdown",
   "metadata": {},
   "source": [
    "### Time alignment\n",
    "Next we want to ensure that a common temporal reference frame is shared across all our files. For that we choose the first imec recording file (*.imec0.ap.bin) to be our reference and all other files are keyed off of that one. Each imec file will have a synchronization signal on channel 384. For the nidq file, the synchronization signal will be on whichever channel it had been plugged into on the NiDAQ card.\n",
    "\n",
    "The alignment is stored using dclut meta files. When we created our LFP files these were made, but they have not yet been created for the *.ap.bin and *.nidq.bin files. So first we will create those."
   ]
  },
  {
   "cell_type": "code",
   "execution_count": 3,
   "metadata": {},
   "outputs": [
    {
     "data": {
      "text/plain": [
       "['D:\\\\SortingTemp\\\\24-05-31_DH23_A1-IC_g0\\\\24-05-31_DH23_A1-IC_g0_imec0\\\\24-05-31_DH23_A1-IC_g0_t0.imec0.lfp_dclut.json',\n",
       " 'D:\\\\SortingTemp\\\\24-05-31_DH23_A1-IC_g0\\\\24-05-31_DH23_A1-IC_g0_imec1\\\\24-05-31_DH23_A1-IC_g0_t0.imec1.lfp_dclut.json']"
      ]
     },
     "execution_count": 3,
     "metadata": {},
     "output_type": "execute_result"
    }
   ],
   "source": [
    "lfp_dclut_files = find_all_matching_files(exp_dir, r't0\\.imec([0-9]+)\\.lfp_dclut\\.json')\n",
    "lfp_dclut_files"
   ]
  },
  {
   "cell_type": "code",
   "execution_count": 2,
   "metadata": {},
   "outputs": [],
   "source": [
    "# Create dclut files for ap and nidq files\n",
    "from mimo_pack.fileio.spikeglx import dclut_from_meta\n",
    "\n",
    "ap_dclut_files = [dclut_from_meta(f) for f in ap_files]\n",
    "nidq_dclut_file = dclut_from_meta(nidq_file)\n"
   ]
  },
  {
   "cell_type": "markdown",
   "metadata": {},
   "source": [
    "Now that all our files have associated dclut files, we can align them. The function `align_sync_dclut` loads the synchonization signal from two binary files (a *target* and a *reference*) with associated dclut meta data, identifies where those synchronization signals align, creates a table of the indices in the *target* file and their corresponding time stamps in the *reference* file, and returns a new dclut file for the *target* file with a new time scale that uses the alignment table. `align_sync_dclut` has five required inputs:\n",
    "1. path_t : a string of the file path to the target's dclut file\n",
    "2. path_r : a string of the file path to the reference's dclut file\n",
    "3. sync_t : a dictionary passed to the `.points` method of a dclut object that specifies the synchronization channel for the target, e.g. `{'channel': [384]}`\n",
    "4. sync_r : a dictionary passed to the `.points` method of a dclut object that specifies the synchronization channel for the reference.\n",
    "5. sync_scale_name : a string with the name of the scale that corresponds time in both dclut files, e.g. `'time'`\n"
   ]
  },
  {
   "cell_type": "code",
   "execution_count": 4,
   "metadata": {},
   "outputs": [
    {
     "name": "stdout",
     "output_type": "stream",
     "text": [
      "Aligning 24-05-31_DH23_A1-IC_g0_t0.imec1.ap_dclut.json to 24-05-31_DH23_A1-IC_g0_t0.imec0.ap_dclut.json\n",
      "Reading target file\n"
     ]
    },
    {
     "name": "stderr",
     "output_type": "stream",
     "text": [
      "100%|██████████| 451/451 [25:03<00:00,  3.33s/it]\n"
     ]
    },
    {
     "name": "stdout",
     "output_type": "stream",
     "text": [
      "Reading reference file\n"
     ]
    },
    {
     "name": "stderr",
     "output_type": "stream",
     "text": [
      "100%|██████████| 451/451 [25:08<00:00,  3.34s/it]\n"
     ]
    },
    {
     "name": "stdout",
     "output_type": "stream",
     "text": [
      "Aligning sync signals\n"
     ]
    },
    {
     "name": "stderr",
     "output_type": "stream",
     "text": [
      "100%|██████████| 33688/33688 [00:03<00:00, 9551.86it/s]\n"
     ]
    },
    {
     "name": "stdout",
     "output_type": "stream",
     "text": [
      "Aligning 24-05-31_DH23_A1-IC_g0_t0.imec0.lfp_dclut.json to 24-05-31_DH23_A1-IC_g0_t0.imec0.ap_dclut.json\n",
      "Reading target file\n"
     ]
    },
    {
     "name": "stderr",
     "output_type": "stream",
     "text": [
      "100%|██████████| 16/16 [00:50<00:00,  3.13s/it]\n"
     ]
    },
    {
     "name": "stdout",
     "output_type": "stream",
     "text": [
      "Reading reference file\n"
     ]
    },
    {
     "name": "stderr",
     "output_type": "stream",
     "text": [
      "100%|██████████| 451/451 [25:44<00:00,  3.42s/it]\n"
     ]
    },
    {
     "name": "stdout",
     "output_type": "stream",
     "text": [
      "Aligning sync signals\n"
     ]
    },
    {
     "name": "stderr",
     "output_type": "stream",
     "text": [
      "100%|██████████| 33688/33688 [00:03<00:00, 9582.43it/s]\n"
     ]
    },
    {
     "name": "stdout",
     "output_type": "stream",
     "text": [
      "Aligning 24-05-31_DH23_A1-IC_g0_t0.imec1.lfp_dclut.json to 24-05-31_DH23_A1-IC_g0_t0.imec0.ap_dclut.json\n",
      "Reading target file\n"
     ]
    },
    {
     "name": "stderr",
     "output_type": "stream",
     "text": [
      "100%|██████████| 16/16 [00:49<00:00,  3.11s/it]\n"
     ]
    },
    {
     "name": "stdout",
     "output_type": "stream",
     "text": [
      "Reading reference file\n"
     ]
    },
    {
     "name": "stderr",
     "output_type": "stream",
     "text": [
      "100%|██████████| 451/451 [25:13<00:00,  3.36s/it]\n"
     ]
    },
    {
     "name": "stdout",
     "output_type": "stream",
     "text": [
      "Aligning sync signals\n"
     ]
    },
    {
     "name": "stderr",
     "output_type": "stream",
     "text": [
      "100%|██████████| 33688/33688 [00:03<00:00, 9443.68it/s]\n"
     ]
    },
    {
     "name": "stdout",
     "output_type": "stream",
     "text": [
      "Aligning 24-05-31_DH23_A1-IC_g0_t0.nidq_dclut.json to 24-05-31_DH23_A1-IC_g0_t0.imec0.ap_dclut.json\n",
      "Reading target file\n"
     ]
    },
    {
     "name": "stderr",
     "output_type": "stream",
     "text": [
      "100%|██████████| 451/451 [00:14<00:00, 31.67it/s]\n"
     ]
    },
    {
     "name": "stdout",
     "output_type": "stream",
     "text": [
      "Reading reference file\n"
     ]
    },
    {
     "name": "stderr",
     "output_type": "stream",
     "text": [
      "100%|██████████| 451/451 [24:59<00:00,  3.32s/it]\n"
     ]
    },
    {
     "name": "stdout",
     "output_type": "stream",
     "text": [
      "Aligning sync signals\n"
     ]
    },
    {
     "name": "stderr",
     "output_type": "stream",
     "text": [
      "100%|██████████| 33688/33688 [00:03<00:00, 9083.95it/s]\n"
     ]
    },
    {
     "data": {
      "text/plain": [
       "'D:\\\\SortingTemp\\\\24-05-31_DH23_A1-IC_g0\\\\24-05-31_DH23_A1-IC_g0_t0.nidq_dclut.json'"
      ]
     },
     "execution_count": 4,
     "metadata": {},
     "output_type": "execute_result"
    }
   ],
   "source": [
    "from mimo_pack.preprocess.time import align_sync_dclut\n",
    "\n",
    "# Align the AP files to the first one\n",
    "ap_r = ap_dclut_files[0] \n",
    "sync_pt = {'channel': [384]}\n",
    "sync_scale_name = 'time'\n",
    "for ap_t in range(1, len(ap_dclut_files)):\n",
    "    file_t = ap_dclut_files[ap_t]\n",
    "    print('Aligning {} to {}'.format(os.path.basename(file_t), os.path.basename(ap_r)))\n",
    "    align_sync_dclut(file_t, ap_r, sync_pt, sync_pt, sync_scale_name, verbose=True)\n",
    "\n",
    "# Align the LFP files to the first AP file\n",
    "for lfp_t in range(len(lfp_dclut_files)):\n",
    "    file_t = lfp_dclut_files[lfp_t]\n",
    "    print('Aligning {} to {}'.format(os.path.basename(file_t), os.path.basename(ap_r)))\n",
    "    align_sync_dclut(file_t, ap_r, sync_pt, sync_pt, sync_scale_name, verbose=True)\n",
    "\n",
    "# Align the NIDQ file to the first AP file\n",
    "sync_nidq_pt = {'channel': [5]}\n",
    "print('Aligning {} to {}'.format(os.path.basename(nidq_dclut_file), os.path.basename(ap_r)))\n",
    "align_sync_dclut(nidq_dclut_file, ap_r, sync_nidq_pt, sync_pt, sync_scale_name, verbose=True)"
   ]
  },
  {
   "cell_type": "markdown",
   "metadata": {},
   "source": [
    "### Verifying the alignment\n",
    "Now that everything is synchronized, we should spot check the quality of the time alignment. If signals are perfectly aligned, then the signals on their sync pulse channels should be perfectly matched."
   ]
  },
  {
   "cell_type": "code",
   "execution_count": 12,
   "metadata": {},
   "outputs": [
    {
     "name": "stdout",
     "output_type": "stream",
     "text": [
      "D:\\SortingTemp\\24-05-31_DH23_A1-IC_g0\\24-05-31_DH23_A1-IC_g0_imec0\\24-05-31_DH23_A1-IC_g0_t0.imec0.ap_dclut.json\n",
      "D:\\SortingTemp\\24-05-31_DH23_A1-IC_g0\\24-05-31_DH23_A1-IC_g0_imec1\\24-05-31_DH23_A1-IC_g0_t0.imec1.ap_dclut.json\n",
      "D:\\SortingTemp\\24-05-31_DH23_A1-IC_g0\\24-05-31_DH23_A1-IC_g0_imec0\\24-05-31_DH23_A1-IC_g0_t0.imec0.lfp_dclut.json\n",
      "D:\\SortingTemp\\24-05-31_DH23_A1-IC_g0\\24-05-31_DH23_A1-IC_g0_imec1\\24-05-31_DH23_A1-IC_g0_t0.imec1.lfp_dclut.json\n",
      "D:\\SortingTemp\\24-05-31_DH23_A1-IC_g0\\24-05-31_DH23_A1-IC_g0_t0.nidq_dclut.json\n"
     ]
    },
    {
     "data": {
      "image/png": "[encoded data removed]",
      "text/plain": [
       "<Figure size 640x480 with 1 Axes>"
      ]
     },
     "metadata": {},
     "output_type": "display_data"
    }
   ],
   "source": [
    "import matplotlib.pyplot as plt\n",
    "from dclut import dclut\n",
    "\n",
    "files = ap_dclut_files + lfp_dclut_files + [nidq_dclut_file]\n",
    "is_nidq = [False] * (len(files)-1) + [True] # the last file is the nidq file\n",
    "sample = {'time': [1000, 1010]}\n",
    "signals = []\n",
    "for f in range(len(files)):\n",
    "    print(files[f])\n",
    "    dcl = dclut(files[f])\n",
    "    dcl.intervals(sample)\n",
    "    if is_nidq[f]:\n",
    "        dcl.points(sync_nidq_pt)\n",
    "    else:\n",
    "        dcl.points(sync_pt)\n",
    "    signals.append(dcl.read(format='xarray'))\n",
    "\n",
    "# find pulse onsets in reference signal\n",
    "ref_signal = signals[0][0].data\n",
    "fig, ax = plt.subplots()\n",
    "for s in signals:\n",
    "    ax.plot(s[0].time, s[0].data)\n",
    "    \n"
   ]
  }
 ],
 "metadata": {
  "kernelspec": {
   "display_name": "mimo_env",
   "language": "python",
   "name": "python3"
  },
  "language_info": {
   "codemirror_mode": {
    "name": "ipython",
    "version": 3
   },
   "file_extension": ".py",
   "mimetype": "text/x-python",
   "name": "python",
   "nbconvert_exporter": "python",
   "pygments_lexer": "ipython3",
   "version": "3.10.14"
  }
 },
 "nbformat": 4,
 "nbformat_minor": 2
}
