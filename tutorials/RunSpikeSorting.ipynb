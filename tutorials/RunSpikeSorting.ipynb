{
 "cells": [
  {
   "cell_type": "markdown",
   "metadata": {},
   "source": [
    "# Running spike sorting on Neuropixel probes\n",
    "This document covers how to run spike sorting. If you are running this for the first time, please follow the installation instructions below. Note, during installation you will create a new conda environment, kilosort, which must be used to run this notebook."
   ]
  },
  {
   "cell_type": "markdown",
   "metadata": {},
   "source": [
    "## Installation\n",
    "Several pieces of software need to be installed before you can begin.\n",
    "1. Create a conda environment for Kilosort4 by following the instructions on its [github page](https://github.com/MouseLand/Kilosort). Once the environment is created, we will add support for Jupyter notebooks and Matplotlib. To do this:\n",
    "    1. In the anaconda terminal, enter the kilosort environment by typing `conda activate kilosort`.\n",
    "    2. Install Jupyter notebooks by calling `pip install notebook`.\n",
    "    3. Install Matplotlib by calling `python -m pip install matplotlib`.\n",
    "2. Go the the [SpikeGLX site](https://billkarsh.github.io/SpikeGLX/) and download CatGT. For a detailed help of the processing options it offers, [see here](https://billkarsh.github.io/SpikeGLX/help/syncEdges/Sync_edges/#catgt-event-extraction). To better understand how it works, you can read the explanation [here](https://billkarsh.github.io/SpikeGLX/help/catgt_tshift/catgt_tshift/)\n",
    "3. Once CatGT is downloaded, make it callable from the command line. The instructions for doing this on Windows are:\n",
    "    1. Extract the CatGT-win folder and move it to the *C:\\Program Files* directory.\n",
    "    2. Type 'environment variables' into the search box in the Windows task bar and click the option 'Edit the system environment variables'.\n",
    "    3. Click the 'Environment Variables...' button at the bottom of the window that pops up.\n",
    "    4. Under the panel heading 'System variables', click on the line whose Variable name is 'Path' (the line should turn gray), and then press the 'Edit...' button.\n",
    "    5. In the window that pops up, click the 'New' button. Enter the directory where CatGT was placed (*C:\\Program Files\\CatGT-win*).\n",
    "    6. Do the same as steps 4-5 under the panel heading 'User variables for {user id here}'.\n",
    "    7. Verify CatGT works by opening a terminal (type 'Command Prompt' into the Windows search bar) and entering 'CatGT'. If the environment variable was successfully modified after pressing enter the terminal should return a new command line and in the directory you called CatGT a log file will be created named *CatGT.log* that lists the configuration settings for CatGT.\n",
    "4. Download *SGLXMetaToCoords.py* from its [github page](https://github.com/jenniferColonell/SGLXMetaToCoords/blob/main/SGLXMetaToCoords.py). Place it on the drive where you intend to place the files for sorting.\n",
    "5. Download *SpikeGLX_Datafile_Tools* from its [github page](https://github.com/jenniferColonell/SpikeGLX_Datafile_Tools). Place the folder *DemoReadSGLXData* found in the *Python* directory on the drive where you intend to place the files for sorting. For a demonstration of how to use the functions contained in *readSGLX.py* check out this Jupyter notebook for [analog signals](https://github.com/jenniferColonell/SpikeGLX_Datafile_Tools/blob/main/Python/read_SGLX_analog.ipynb) or this one for [digital signals](https://github.com/jenniferColonell/SpikeGLX_Datafile_Tools/blob/main/Python/read_SGLX_digital.ipynb).\n",
    "6. Make sure this notebook is placed on your spike sorting drive. You can save a new version of it each time you want to \n"
   ]
  },
  {
   "cell_type": "markdown",
   "metadata": {},
   "source": [
    "## Processing spike data\n",
    "To run this code, call this notebook from the kilosort conda environment that you created above."
   ]
  },
  {
   "cell_type": "markdown",
   "metadata": {},
   "source": [
    "### Common settings\n",
    "Note that on windows machines I use two slashes ('\\\\\\\\') instead of just one ('\\\\') to separate directories."
   ]
  },
  {
   "cell_type": "code",
   "execution_count": 1,
   "metadata": {},
   "outputs": [],
   "source": [
    "# need library to save as json\n",
    "import os\n",
    "import re\n",
    "import subprocess\n",
    "from pathlib import Path\n",
    "import numpy as np\n",
    "from kilosort.io import save_probe\n",
    "from kilosort.parameters import DEFAULT_SETTINGS\n",
    "from kilosort.run_kilosort import run_kilosort\n",
    "import SGLXMetaToCoords as sglx\n",
    "\n",
    "# set your data directory here, should contain the .ap.bin and .ap.meta files\n",
    "file_dir = Path('D:\\\\SortingTest\\\\24-04-09_DH12_M1-Shk1_M2-SupraLayer_g1\\\\24-04-09_DH12_M1-Shk1_M2-SupraLayer_g1_imec0\\\\')\n",
    "\n",
    "# skip CatGT if already ran\n",
    "skip_catgt = True\n",
    "\n",
    "# useful Kilosort settings\n",
    "config = {'tmin': 0, # start time in seconds\n",
    "          'tmax': np.inf, # end time in seconds\n",
    "          'artifact_threshold': np.inf, # threshold for detecting artifacts\n",
    "          'batch_size': 60000, # number of samples per batch\n",
    "          'nblocks': 1, # number of blocks to split the data into for drift correction\n",
    "          'Th_universal': 9, # threshold for detecting spikes used in universal templates\n",
    "          'Th_learned': 8} # threshold for detecting spikes used in learned templates"
   ]
  },
  {
   "cell_type": "markdown",
   "metadata": {},
   "source": [
    "### Get files to process"
   ]
  },
  {
   "cell_type": "code",
   "execution_count": null,
   "metadata": {},
   "outputs": [],
   "source": [
    "# get the data dir\n",
    "data_dir = file_dir.parents[1]\n",
    "\n",
    "# get the meta file in the folder\n",
    "meta_file = str(list(file_dir.glob('*.ap.meta'))[0])\n",
    "\n",
    "# get the binary file in the folder\n",
    "bin_file = list(file_dir.glob('*.ap.bin'))\n",
    "bin_file = [str(x) for x in bin_file if str(x).find('_tcat') == -1][0]\n",
    "\n",
    "# get the run name\n",
    "run_name = file_dir.parts[-2]\n",
    "run_name = re.sub(r'_g\\d+$', '', run_name)\n",
    "\n",
    "# get the gate and trigger numbers\n",
    "gate_num = re.search(r'_g(\\d+)', bin_file).group(1)\n",
    "trig_num = re.search(r'_t(\\d+)', bin_file).group(1)\n",
    "\n",
    "# get the probe number\n",
    "probe_num = re.search(r'_imec(\\d+)', bin_file).group(1)\n",
    "\n",
    "# print directory and file names\n",
    "print('Files directory: {}'.format(file_dir))\n",
    "print('Meta file: {}'.format(meta_file))\n",
    "print('Binary file: {}'.format(bin_file))\n",
    "print('Data directory: {}'.format(data_dir))\n",
    "print('Run name: {}'.format(run_name))\n",
    "print('Gate number: {}'.format(gate_num))\n",
    "print('Trigger number: {}'.format(trig_num))\n",
    "print('Probe number: {}'.format(probe_num))"
   ]
  },
  {
   "cell_type": "markdown",
   "metadata": {},
   "source": [
    "### Create probe dictionary\n",
    "Kilosort4 requires a `.json` file that specifies the locations of the recording sites on the recording probe. It should contain the fields `chanMap`, `xc`, `yx`, `kcoords`, and `n_chan`. When multiple shanks were used, the recording sites are rearranged to all be on the same shank."
   ]
  },
  {
   "cell_type": "code",
   "execution_count": 3,
   "metadata": {},
   "outputs": [
    {
     "data": {
      "image/png": "[encoded data removed]",
      "text/plain": [
       "<Figure size 200x1200 with 1 Axes>"
      ]
     },
     "metadata": {},
     "output_type": "display_data"
    }
   ],
   "source": [
    "# get the coordinates of the electrodes from the meta file\n",
    "xc, yc, shanks, kcoords, n_chan = sglx.MetaToCoords(Path(meta_file), outType=0, showPlot=True)\n",
    "shank_sep = 250\n",
    "xc = xc + shanks*shank_sep\n",
    "n_chan = int(n_chan)\n",
    "chan_map = np.arange(n_chan-1) # exclude last channel which is sync\n",
    "\n",
    "# This is seemingly no longer a problem with Kilosort4, which can handle multishank probes\n",
    "# but I'll leave this here for reference in case it's needed in the future.\n",
    "# if multiple shanks are used, the channel coordinates should be adjusted so that \n",
    "# each shank is stacked on top of the previous one. This is necessary for the\n",
    "# spike sorting to work correctly with Kilosort4, which does not handle multishank \n",
    "# probes well.\n",
    "\"\"\" shank_list = np.unique(shanks)\n",
    "if len(shank_list) > 1:\n",
    "    offset = 0\n",
    "    for shank in shank_list:\n",
    "        idx = np.where(shanks == shank)[0] # get the indices of the channels in the current shank\n",
    "        y_min = np.min(yc[idx]) # get the minimum y coordinate of the current shank\n",
    "        yc[idx] = yc[idx] - y_min + offset # adjust the y coordinates of the current shank\n",
    "        offset = np.max(yc[idx]) + shank_sep # update the offset for the next shank \"\"\"\n",
    "\n",
    "\n",
    "probe =  {'chanMap': chan_map, 'xc': xc, 'yc': yc, 'kcoords': kcoords, 'n_chan': n_chan}"
   ]
  },
  {
   "cell_type": "code",
   "execution_count": 4,
   "metadata": {},
   "outputs": [
    {
     "data": {
      "text/plain": [
       "<matplotlib.collections.PathCollection at 0x1659689ae20>"
      ]
     },
     "execution_count": 4,
     "metadata": {},
     "output_type": "execute_result"
    },
    {
     "data": {
      "image/png": "[encoded data removed]",
      "text/plain": [
       "<Figure size 640x480 with 1 Axes>"
      ]
     },
     "metadata": {},
     "output_type": "display_data"
    }
   ],
   "source": [
    "import matplotlib.pyplot as plt\n",
    "plt.scatter(xc, yc)"
   ]
  },
  {
   "cell_type": "code",
   "execution_count": 5,
   "metadata": {},
   "outputs": [
    {
     "name": "stdout",
     "output_type": "stream",
     "text": [
      "Saving probe file to: D:\\SortingTest\\24-04-09_DH12_M1-Shk1_M2-SupraLayer_g1\\24-04-09_DH12_M1-Shk1_M2-SupraLayer_g1_imec0\\probe.json\n"
     ]
    }
   ],
   "source": [
    "probe_file = os.path.join(str(file_dir), 'probe.json')\n",
    "print('Saving probe file to: {}'.format(probe_file))\n",
    "\n",
    "save_probe(probe, probe_file)"
   ]
  },
  {
   "cell_type": "markdown",
   "metadata": {},
   "source": [
    "### Fix timing, remove common noise, and filter for spikes with CatGT\n",
    "We use the CatGT function to perform common average referencing (CAR) to clean data intended for spike sorting. Prior to carrying this out, the data must have a correction applied to fix a subtle timing offset. Channels that are multiplexed into the same ADC are sampled at slightly different times, which could cause problems when removing common mode noise that has a fast, large, transients (e.g. electrical stimulation artifacts or head bumps). CatGT corrects for this and then applies CAR. We also apply filtering to isolate unit activity signals."
   ]
  },
  {
   "cell_type": "code",
   "execution_count": 6,
   "metadata": {},
   "outputs": [
    {
     "name": "stdout",
     "output_type": "stream",
     "text": [
      "CatGT already ran, skipping...\n"
     ]
    }
   ],
   "source": [
    "# test if already ran CatGT\n",
    "tcat_file = bin_file.replace('_t'+trig_num, '_tcat')\n",
    "\n",
    "if skip_catgt and Path(tcat_file).exists():\n",
    "    print('CatGT already ran, skipping...')\n",
    "else:\n",
    "    print('Running CatGT...')\n",
    "    # file and directory names for CatGT\n",
    "    catgt_files = '-dir={} -run={} -g={} -t={} -prb={}'.format(\n",
    "        data_dir, run_name, gate_num, trig_num, probe_num)\n",
    "\n",
    "    # options for CatGT, can be edited as needed\n",
    "    catgt_opts = '-ap -prb_fld -gbldmx' # -apfilter=butter,2,300,9000, dropped filter\n",
    "\n",
    "    # full command for CatGT\n",
    "    catgt_cmd = 'CatGT {} {}'.format(catgt_files, catgt_opts)\n",
    "\n",
    "    # run catGT\n",
    "    cmd_out = subprocess.run(catgt_cmd, shell=True, capture_output=True)\n",
    "    print(cmd_out.stdout.decode('utf-8'))"
   ]
  },
  {
   "cell_type": "markdown",
   "metadata": {},
   "source": [
    "### Run Kilosort4"
   ]
  },
  {
   "cell_type": "code",
   "execution_count": null,
   "metadata": {},
   "outputs": [],
   "source": [
    "# initialize settings with default values\n",
    "settings = DEFAULT_SETTINGS\n",
    "\n",
    "# update settings with custom values from config\n",
    "for key, value in config.items():\n",
    "    settings[key] = value\n",
    "\n",
    "# run Kilosort\n",
    "ops, st, clu, tf, Wall, similar_templates, is_ref, est_contam_rate, kept_spikes \\\n",
    "    = run_kilosort(settings, probe=probe, filename=tcat_file, data_dir=file_dir)"
   ]
  },
  {
   "cell_type": "markdown",
   "metadata": {},
   "source": [
    "### Bugs\n",
    "\n",
    "Error: \n",
    "\n",
    "File c:\\Users\\dbh60\\.conda\\envs\\kilosort\\lib\\site-packages\\kilosort\\run_kilosort.py:398, in detect_spikes(ops, device, bfile, tic0, progress_bar)\n",
    "    396 tic = time.time()\n",
    "    397 print(f'\\nExtracting spikes using templates')\n",
    "--> 398 st0, tF, ops = spikedetect.run(ops, bfile, device=device, progress_bar=progress_bar)\n",
    "    399 tF = torch.from_numpy(tF)\n",
    "    400 print(f'{len(st0)} spikes extracted in {time.time()-tic : .2f}s; ' + \n",
    "...\n",
    "--> 688     X = (M @ self.whiten_mat) @ X\n",
    "    689 else:\n",
    "    690     X = self.whiten_mat @ X\n",
    "\n",
    "RuntimeError: expected mat1 and mat2 to have the same dtype, but got: double != float\n",
    "\n",
    "In io,py at line 687 insert `if M.dtype == torch.float64:\n",
    "                    M = M.float()`"
   ]
  }
 ],
 "metadata": {
  "kernelspec": {
   "display_name": "base",
   "language": "python",
   "name": "python3"
  },
  "language_info": {
   "codemirror_mode": {
    "name": "ipython",
    "version": 3
   },
   "file_extension": ".py",
   "mimetype": "text/x-python",
   "name": "python",
   "nbconvert_exporter": "python",
   "pygments_lexer": "ipython3",
   "version": "3.9.19"
  }
 },
 "nbformat": 4,
 "nbformat_minor": 2
}
